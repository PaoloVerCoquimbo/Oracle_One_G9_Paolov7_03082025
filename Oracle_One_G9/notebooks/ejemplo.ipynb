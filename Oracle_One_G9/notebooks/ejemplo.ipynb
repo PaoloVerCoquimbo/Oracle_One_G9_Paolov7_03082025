﻿{
 "cells": [
  {
   "cell_type": "markdown",
   "metadata": {},
   "source": [
    "# Oracle One G9 - Notebook de ejemplo\n",
    "\n",
    "Este es un notebook de ejemplo para el proyecto Oracle One Generation 9."
   ]
  },
  {
   "cell_type": "code",
   "execution_count": null,
   "metadata": {},
   "outputs": [],
   "source": [
    "import pandas as pd\n",
    "import numpy as np\n",
    "import matplotlib.pyplot as plt\n",
    "\n",
    "print('Â¡Entorno configurado correctamente!')"
   ]
  }
 ],
 "metadata": {
  "kernelspec": {
   "display_name": "Python 3",
   "language": "python",
   "name": "python3"
  }
 },
 "nbformat": 4,
 "nbformat_minor": 4
}
